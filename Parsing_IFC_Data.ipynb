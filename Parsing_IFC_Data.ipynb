{
  "nbformat": 4,
  "nbformat_minor": 0,
  "metadata": {
    "colab": {
      "name": "Parsing_IFC_Data.ipynb",
      "provenance": [],
      "collapsed_sections": []
    },
    "kernelspec": {
      "name": "python3",
      "display_name": "Python 3"
    }
  },
  "cells": [
    {
      "cell_type": "markdown",
      "metadata": {
        "id": "piRLkFMr5XIc"
      },
      "source": [
        "## 1. IfcOpenShell - python package & IFC file 'Sample a' download from gitHub"
      ]
    },
    {
      "cell_type": "code",
      "metadata": {
        "id": "RIsmd5lvtcy4"
      },
      "source": [
        "!git clone https://github.com/bigbreadguy/Parsing_IFC_Data_using_ifcopenshell.git"
      ],
      "execution_count": null,
      "outputs": []
    },
    {
      "cell_type": "code",
      "metadata": {
        "id": "5HkQuCRctkW4"
      },
      "source": [
        "!unzip /content/Parsing_IFC_Data_using_ifcopenshell/ifcopenshell.zip -d ifcopenshell/"
      ],
      "execution_count": null,
      "outputs": []
    },
    {
      "cell_type": "markdown",
      "metadata": {
        "id": "wzY1iWgq8GCq"
      },
      "source": [
        "## 2. Import IfcOpenShell & Open IFC file 'Sample a'"
      ]
    },
    {
      "cell_type": "code",
      "metadata": {
        "id": "wAabGuv4ty8R"
      },
      "source": [
        "import ifcopenshell"
      ],
      "execution_count": null,
      "outputs": []
    },
    {
      "cell_type": "code",
      "metadata": {
        "id": "ppH7199xuWN4"
      },
      "source": [
        "ifc_file = ifcopenshell.open('/content/Parsing_IFC_Data_using_ifcopenshell/sample_a.ifc')"
      ],
      "execution_count": null,
      "outputs": []
    },
    {
      "cell_type": "markdown",
      "metadata": {
        "id": "8JyVavm38Xnx"
      },
      "source": [
        "## 3. Print the all IfcProduct in 'sample a'"
      ]
    },
    {
      "cell_type": "code",
      "metadata": {
        "id": "LlMD0yyRutF0"
      },
      "source": [
        "products = ifc_file.by_type('IfcProduct')\n",
        "for product in products:\n",
        "    print(product.is_a())"
      ],
      "execution_count": null,
      "outputs": []
    },
    {
      "cell_type": "markdown",
      "metadata": {
        "id": "pPjKA4kH8oB5"
      },
      "source": [
        "## 4. Check the number of IfcProduct that you choose in 'Sample a'\n",
        "\n",
        "\n",
        "<font color=\"green\">Enter one of <font color=\"black\">IfcWall, IfcCovering, IfcDoor or IfcSlab</font> in the blank.</font> "
      ]
    },
    {
      "cell_type": "code",
      "metadata": {
        "id": "m5zqjADAvMs2"
      },
      "source": [
        "len(ifc_file.by_type('_____'))"
      ],
      "execution_count": null,
      "outputs": []
    },
    {
      "cell_type": "markdown",
      "metadata": {
        "id": "mfA6ROV89Q5S"
      },
      "source": [
        "## 5. Print the GlobalId and Name of the first ifcproduct.\n",
        "<font color=\"green\">Enter object name like wall, covering, door, slab in the <font color=\"black\">black underbar blank </font>& \n",
        "\n",
        "<font color=\"green\">Enter the same ifcproduct entered in step 4 in the <font color=\"brown\">brown underbar blank.  "
      ]
    },
    {
      "cell_type": "code",
      "metadata": {
        "id": "1tNCnNf9vjDM"
      },
      "source": [
        "____ = ifc_file.by_type('_____')[0]\n",
        "print(____.GlobalId)\n",
        "print(____.Name)"
      ],
      "execution_count": null,
      "outputs": []
    },
    {
      "cell_type": "markdown",
      "metadata": {
        "id": "lxTL__tl-CPo"
      },
      "source": [
        "## 6. Check the property_set list of the first ifcproduct\n",
        "<font color=\"green\">Enter the object name that you entered in step 5 in the blank  "
      ]
    },
    {
      "cell_type": "code",
      "metadata": {
        "id": "QfXBrjPSvrzs"
      },
      "source": [
        "property_set_list = []\n",
        "for definition in ____.IsDefinedBy:\n",
        "    # To support IFC2X3, we need to filter our results.\n",
        "    if definition.is_a('IfcRelDefinesByProperties'):\n",
        "        property_set = definition.RelatingPropertyDefinition\n",
        "        property_set_list.append(property_set)\n",
        "        print(property_set.Name) # Might return Pset_WallCommon"
      ],
      "execution_count": null,
      "outputs": []
    },
    {
      "cell_type": "markdown",
      "metadata": {
        "id": "cvSG5O2z-Wig"
      },
      "source": [
        "## 7. Print the HasProperties in property_set list of the first IfcProduct"
      ]
    },
    {
      "cell_type": "code",
      "metadata": {
        "id": "-d9Lv4uGwIyL"
      },
      "source": [
        "for i in range(len(property_set_list)):\n",
        "  print(i)\n",
        "  for property in property_set_list[i].HasProperties:\n",
        "    # if property.is_a('IfcPropertySingleValue'):\n",
        "    print(property.Name)\n",
        "    print(property.NominalValue.wrappedValue)  \n",
        "    print(\"\\n\")  "
      ],
      "execution_count": null,
      "outputs": []
    },
    {
      "cell_type": "markdown",
      "metadata": {
        "id": "zTSqBSXC-tH5"
      },
      "source": [
        "## 8. Print the Dimensions of the first IfcProduct\n",
        "<font color=\"green\">First, you need to check the index number(starts from zero) of \n",
        "\n",
        "<font color=\"red\">PSet_Revit_Dimensions or PSet_Revit_Type_Dimensions<font color=\"green\"> and put the index number in the blank   "
      ]
    },
    {
      "cell_type": "code",
      "metadata": {
        "id": "CMPaeBWUwge0"
      },
      "source": [
        "  for property in property_set_list[__].HasProperties:\n",
        "    # if property.is_a('IfcPropertySingleValue'):\n",
        "    print(property.Name)\n",
        "    print(property.NominalValue.wrappedValue)"
      ],
      "execution_count": null,
      "outputs": []
    },
    {
      "cell_type": "markdown",
      "metadata": {
        "id": "wS_Gnldb-3HJ"
      },
      "source": [
        "## 9. Import predefined extract data function from the path\n",
        "\n",
        "---\n",
        "\n"
      ]
    },
    {
      "cell_type": "code",
      "metadata": {
        "id": "mOf7t4j-xAKi"
      },
      "source": [
        "from Parsing_IFC_Data_using_ifcopenshell.extract import extract_dimension"
      ],
      "execution_count": null,
      "outputs": []
    },
    {
      "cell_type": "markdown",
      "metadata": {
        "id": "0Fk_YAXk3r1P"
      },
      "source": [
        "## 10. Extraction and Print all dimensions data of the IfcProduct that you choose in 'sample a'\n",
        "<font color=\"green\">Enter the IfcProduct in the blank "
      ]
    },
    {
      "cell_type": "code",
      "metadata": {
        "id": "dzJzo4Zw4ZDp"
      },
      "source": [
        "df_example1 = extract_dimension(ifc_file=ifc_file, ifc_type=\"_____\")\n",
        "df_example1.head()"
      ],
      "execution_count": null,
      "outputs": []
    },
    {
      "cell_type": "markdown",
      "metadata": {
        "id": "dM6moUv3R62t"
      },
      "source": [
        "## 11. Export the extracted data to csv file \n",
        "<font color=\"green\">Enter the ifcproduct name in the blank.\n"
      ]
    },
    {
      "cell_type": "code",
      "metadata": {
        "id": "cNkxWQahReEl"
      },
      "source": [
        "df_example1.to_csv('_____.csv')"
      ],
      "execution_count": null,
      "outputs": []
    }
  ]
}